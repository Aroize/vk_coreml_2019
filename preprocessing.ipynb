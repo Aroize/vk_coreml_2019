{
 "cells": [
  {
   "cell_type": "markdown",
   "metadata": {},
   "source": [
    "# Подготовка датасета\n",
    "\n",
    "1. Удалить из него 10% связей — именно их нужно будет предсказать с помощью модели ранжирования.\n",
    "2. Разделить полученный датасет на два множества: 80% — для обучения и 20% — для предсказания."
   ]
  },
  {
   "cell_type": "code",
   "execution_count": 1,
   "metadata": {},
   "outputs": [],
   "source": [
    "import pandas as pd\n",
    "from sklearn.model_selection import train_test_split"
   ]
  },
  {
   "cell_type": "code",
   "execution_count": 2,
   "metadata": {},
   "outputs": [
    {
     "name": "stdout",
     "output_type": "stream",
     "text": [
      "817090\n"
     ]
    }
   ],
   "source": [
    "raw_file = pd.read_csv('fb-wosn-friends.edges', sep=' ', header=2).values[:, 0:2]\n",
    "raw_file = [(i[0], i[1]) for i in raw_file]\n",
    "raw_file = set(raw_file)\n",
    "print(len(raw_file))"
   ]
  },
  {
   "cell_type": "code",
   "execution_count": 3,
   "metadata": {},
   "outputs": [],
   "source": [
    "res_edges, removed_edges = train_test_split(list(raw_file), train_size=0.9)"
   ]
  },
  {
   "cell_type": "code",
   "execution_count": 4,
   "metadata": {},
   "outputs": [],
   "source": [
    "res_edges = list(map(lambda x: sorted(x), res_edges))\n",
    "removed_edges = list(map(lambda x: sorted(x), removed_edges))\n",
    "res_edges.sort()\n",
    "removed_edges.sort()"
   ]
  },
  {
   "cell_type": "code",
   "execution_count": 5,
   "metadata": {},
   "outputs": [],
   "source": [
    "def write_list_to_file(file_path, list_object, mode='w', line_separator='\\n', values_separator=' '):\n",
    "    with open(file_path, mode) as file:\n",
    "        for row in list_object:\n",
    "            line = ''\n",
    "            for index, data in enumerate(row, 0):\n",
    "                line += str(data)\n",
    "                if index != len(row) - 1:\n",
    "                    line += values_separator\n",
    "            line += line_separator\n",
    "            file.write(line)"
   ]
  },
  {
   "cell_type": "code",
   "execution_count": 6,
   "metadata": {},
   "outputs": [],
   "source": [
    "write_list_to_file('./preprocessed_data/residual.edges', res_edges)\n",
    "write_list_to_file('./preprocessed_data/removed.edges', removed_edges)"
   ]
  },
  {
   "cell_type": "markdown",
   "metadata": {},
   "source": [
    "# Подготовка признаков ранжирования\n",
    "В качестве основных признаков для модели ранжирования предлагается вычислить две метрики схожести нод графа: «число общих друзей» (CN) и AdarAdamic (AA).\n",
    "Для этого в полученном графе для каждой вершины необходимо найти её второй круг (друзей друзей, с которыми не дружит данный пользователь) и для каждого кандидата вычислить указанные метрики схожести.\n",
    "Число кандидатов для рекомендаций в модели ограничить размером максимум в 40 вершин.\n",
    "В итоге нужно получить список вида: User_id -> vector[Candidate_id, CN, AA]. Сохранить его в текстовом формате."
   ]
  },
  {
   "cell_type": "code",
   "execution_count": 7,
   "metadata": {},
   "outputs": [],
   "source": [
    "from pyspark import SparkContext, SparkConf\n",
    "from math import log"
   ]
  },
  {
   "cell_type": "code",
   "execution_count": 8,
   "metadata": {},
   "outputs": [],
   "source": [
    "sc = SparkContext('local[2]', 'VK_CORE_ML')"
   ]
  },
  {
   "cell_type": "code",
   "execution_count": 9,
   "metadata": {},
   "outputs": [],
   "source": [
    "spark_text_file = sc.textFile('./preprocessed_data/residual.edges')"
   ]
  },
  {
   "cell_type": "code",
   "execution_count": 10,
   "metadata": {},
   "outputs": [],
   "source": [
    "friends_list = spark_text_file \\\n",
    "                            .map(lambda x: list(map(int, x.split()))) \\\n",
    "                            .flatMap(lambda x: (x, x[::-1])) \\\n",
    "                            .groupByKey()"
   ]
  },
  {
   "cell_type": "code",
   "execution_count": 11,
   "metadata": {},
   "outputs": [],
   "source": [
    "cached_dict = friends_list.collectAsMap()\n",
    "cached_dict = sc.broadcast(cached_dict)"
   ]
  },
  {
   "cell_type": "code",
   "execution_count": 13,
   "metadata": {},
   "outputs": [],
   "source": [
    "removed_text_file = sc.textFile('./preprocessed_data/removed.edges')\n",
    "removed_list = removed_text_file \\\n",
    "                            .map(lambda x: list(map(int, x.split()))) \\\n",
    "                            .flatMap(lambda x: (x, x[::-1])) \\\n",
    "                            .groupByKey()\n",
    "cached_removed_dict = removed_list.collectAsMap()\n",
    "cached_removed_dict = sc.broadcast(cached_removed_dict)"
   ]
  },
  {
   "cell_type": "code",
   "execution_count": 14,
   "metadata": {},
   "outputs": [],
   "source": [
    "def calc_CN(first, second):\n",
    "    \"\"\"\n",
    "    Method calculates Common Neighbours index\n",
    "    Contract: first is NOT friend of second\n",
    "    :param first: uid of the first candidate\n",
    "    :param second: uid of the second candidate\n",
    "    :return: tuple of (A, B), where B is list of common friends and A is len of this list\n",
    "    \"\"\"\n",
    "    assert first not in cached_dict.value[first]\n",
    "    first_user_friends = set(cached_dict.value[first])\n",
    "    second_user_friends = set(cached_dict.value[second])\n",
    "    common = first_user_friends.intersection(second_user_friends)\n",
    "    return len(common), common"
   ]
  },
  {
   "cell_type": "code",
   "execution_count": 15,
   "metadata": {},
   "outputs": [],
   "source": [
    "def calc_AA(first, second, common=None):\n",
    "    \"\"\"\n",
    "    Method calculates Adar Adamic index\n",
    "    $$A(x, y) = \\sum_{u \\in N(x) \\cap N(y)} \\frac{1}{\\log{|N(u)|}}$$\n",
    "    :param first: uid of the first candidate\n",
    "    :param second: uid of the second candidate\n",
    "    :return: value of calculated index\n",
    "    \"\"\"\n",
    "    if common is None:\n",
    "        common_size, common = calc_CN(first, second)\n",
    "    AA = 0.0\n",
    "    for friend in common:\n",
    "        AA += log(len(cached_dict.value[friend]))\n",
    "    return AA"
   ]
  },
  {
   "cell_type": "code",
   "execution_count": 16,
   "metadata": {},
   "outputs": [],
   "source": [
    "# Checks whether edge between uid and candidate was deleted\n",
    "def is_deleted_friend(uid, candidate):\n",
    "    if uid in cached_removed_dict.value:\n",
    "        return candidate in cached_removed_dict.value[uid]\n",
    "    else:\n",
    "        return False"
   ]
  },
  {
   "cell_type": "code",
   "execution_count": 17,
   "metadata": {},
   "outputs": [],
   "source": [
    "def get_second_row(uid, max_candidates=40):\n",
    "    \"\"\"\n",
    "    Method finds out friends of friends, who's not friend of uid\n",
    "    :param uid: user id of person, which second row method have to find\n",
    "    :param max_candidates: maximum value of second row len\n",
    "    :return: list of uids\n",
    "    \"\"\"\n",
    "    user_friends = set(cached_dict.value[uid])\n",
    "    second_row = set()\n",
    "    # friend - user's friend\n",
    "    for friend in user_friends:\n",
    "        friend_friends = set(cached_dict.value[friend])\n",
    "        # friends_friend - friend's friend\n",
    "        for friends_friend in friend_friends:\n",
    "            if friends_friend != uid and friends_friend not in user_friends:\n",
    "                second_row = second_row.union(cached_dict.value[friends_friend])\n",
    "        if len(second_row) > max_candidates:\n",
    "            break\n",
    "    # for task we need to limit len of second row\n",
    "    # to get the most valuable candidates we will sort by truth accessory to the set of user friends\n",
    "    second_row = sorted(list(second_row), key=lambda candidate: int(is_deleted_friend(uid, candidate)))[::-1][:40]\n",
    "    return second_row"
   ]
  },
  {
   "cell_type": "code",
   "execution_count": 18,
   "metadata": {},
   "outputs": [],
   "source": [
    "def create_candidates_list(uid):\n",
    "    second_row = get_second_row(uid)\n",
    "    result = []\n",
    "    for candidate in second_row:\n",
    "        CN, common_friends = calc_CN(uid, candidate)\n",
    "        AA = calc_AA(uid, candidate, common=common_friends)\n",
    "        real_ans = int(is_deleted_friend(uid, candidate))\n",
    "        result.append([uid, candidate, CN, AA, real_ans])\n",
    "    return result"
   ]
  },
  {
   "cell_type": "code",
   "execution_count": 19,
   "metadata": {},
   "outputs": [],
   "source": [
    "candidates = friends_list.keys().map(lambda uid: create_candidates_list(uid))"
   ]
  },
  {
   "cell_type": "code",
   "execution_count": 20,
   "metadata": {},
   "outputs": [],
   "source": [
    "calculdated_dataset = candidates.collect()"
   ]
  },
  {
   "cell_type": "code",
   "execution_count": 21,
   "metadata": {},
   "outputs": [],
   "source": [
    "filepath = './dataset/dataset.candidates'\n",
    "for vectors_list in calculdated_dataset:\n",
    "    write_list_to_file(filepath, vectors_list, mode='a')"
   ]
  }
 ],
 "metadata": {
  "kernelspec": {
   "display_name": "Python 2",
   "language": "python",
   "name": "python2"
  },
  "language_info": {
   "codemirror_mode": {
    "name": "ipython",
    "version": 3
   },
   "file_extension": ".py",
   "mimetype": "text/x-python",
   "name": "python",
   "nbconvert_exporter": "python",
   "pygments_lexer": "ipython3",
   "version": "3.6.9"
  }
 },
 "nbformat": 4,
 "nbformat_minor": 4
}
